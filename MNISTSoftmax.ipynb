{
 "cells": [
  {
   "cell_type": "code",
   "execution_count": 2,
   "metadata": {},
   "outputs": [
    {
     "name": "stdout",
     "output_type": "stream",
     "text": [
      "WARNING:tensorflow:From <ipython-input-2-d175075c35b3>:12: read_data_sets (from tensorflow.contrib.learn.python.learn.datasets.mnist) is deprecated and will be removed in a future version.\n",
      "Instructions for updating:\n",
      "Please use alternatives such as official/mnist/dataset.py from tensorflow/models.\n",
      "WARNING:tensorflow:From /home/am/anaconda3/envs/tf_gpu/lib/python3.6/site-packages/tensorflow/contrib/learn/python/learn/datasets/mnist.py:260: maybe_download (from tensorflow.contrib.learn.python.learn.datasets.base) is deprecated and will be removed in a future version.\n",
      "Instructions for updating:\n",
      "Please write your own downloading logic.\n",
      "WARNING:tensorflow:From /home/am/anaconda3/envs/tf_gpu/lib/python3.6/site-packages/tensorflow/contrib/learn/python/learn/datasets/mnist.py:262: extract_images (from tensorflow.contrib.learn.python.learn.datasets.mnist) is deprecated and will be removed in a future version.\n",
      "Instructions for updating:\n",
      "Please use tf.data to implement this functionality.\n",
      "Extracting MNIST_data/train-images-idx3-ubyte.gz\n",
      "WARNING:tensorflow:From /home/am/anaconda3/envs/tf_gpu/lib/python3.6/site-packages/tensorflow/contrib/learn/python/learn/datasets/mnist.py:267: extract_labels (from tensorflow.contrib.learn.python.learn.datasets.mnist) is deprecated and will be removed in a future version.\n",
      "Instructions for updating:\n",
      "Please use tf.data to implement this functionality.\n",
      "Extracting MNIST_data/train-labels-idx1-ubyte.gz\n",
      "WARNING:tensorflow:From /home/am/anaconda3/envs/tf_gpu/lib/python3.6/site-packages/tensorflow/contrib/learn/python/learn/datasets/mnist.py:110: dense_to_one_hot (from tensorflow.contrib.learn.python.learn.datasets.mnist) is deprecated and will be removed in a future version.\n",
      "Instructions for updating:\n",
      "Please use tf.one_hot on tensors.\n",
      "Extracting MNIST_data/t10k-images-idx3-ubyte.gz\n",
      "Extracting MNIST_data/t10k-labels-idx1-ubyte.gz\n",
      "WARNING:tensorflow:From /home/am/anaconda3/envs/tf_gpu/lib/python3.6/site-packages/tensorflow/contrib/learn/python/learn/datasets/mnist.py:290: DataSet.__init__ (from tensorflow.contrib.learn.python.learn.datasets.mnist) is deprecated and will be removed in a future version.\n",
      "Instructions for updating:\n",
      "Please use alternatives such as official/mnist/dataset.py from tensorflow/models.\n"
     ]
    }
   ],
   "source": [
    "# The code performs logistic/softmax regression on the MNIST Dataset\n",
    "# It is based upon the tutorial given at Tensorflow.org : https://www.tensorflow.org/get_started/mnist/beginners\n",
    "# We have added few Tensorboard summaries to understand it better\n",
    "\n",
    "# Import Modules needed\n",
    "import tensorflow as tf\n",
    "import matplotlib.pyplot as plt,  matplotlib.image as mpimg\n",
    "%matplotlib inline\n",
    "\n",
    "# Import Input \n",
    "from tensorflow.examples.tutorials.mnist import input_data\n",
    "mnist = input_data.read_data_sets(\"MNIST_data/\", one_hot=True)\n",
    "\n",
    "\n"
   ]
  },
  {
   "cell_type": "code",
   "execution_count": 3,
   "metadata": {},
   "outputs": [],
   "source": [
    "# Define Hyper Parameters of the model:\n",
    "learning_rate = 0.05\n",
    "batch_size = 100\n",
    "max_epochs = 100"
   ]
  },
  {
   "cell_type": "code",
   "execution_count": 4,
   "metadata": {},
   "outputs": [
    {
     "name": "stderr",
     "output_type": "stream",
     "text": [
      "/home/am/anaconda3/envs/tf_gpu/lib/python3.6/site-packages/matplotlib/text.py:1191: FutureWarning: elementwise comparison failed; returning scalar instead, but in the future will perform elementwise comparison\n",
      "  if s != self._text:\n"
     ]
    },
    {
     "data": {
      "text/plain": [
       "Text(0.5, 1.0, '[0. 0. 0. 0. 0. 0. 0. 0. 1. 0.]')"
      ]
     },
     "execution_count": 4,
     "metadata": {},
     "output_type": "execute_result"
    },
    {
     "data": {
      "image/png": "[encoded data removed]",
      "text/plain": [
       "<Figure size 432x288 with 1 Axes>"
      ]
     },
     "metadata": {
      "needs_background": "light"
     },
     "output_type": "display_data"
    }
   ],
   "source": [
    "# Visualize the data\n",
    "i = 55\n",
    "img = mnist.train.images[i]\n",
    "img=img.reshape((28,28))\n",
    "plt.imshow(img,cmap='gray')\n",
    "plt.title(mnist.train.labels[i])"
   ]
  },
  {
   "cell_type": "code",
   "execution_count": 5,
   "metadata": {},
   "outputs": [],
   "source": [
    "# Tensorflow graph inputs\n",
    "x = tf.placeholder(tf.float32, [None, 784], name='X')\n",
    "y = tf.placeholder(tf.float32, [None, 10],name='Y')"
   ]
  },
  {
   "cell_type": "code",
   "execution_count": 6,
   "metadata": {},
   "outputs": [],
   "source": [
    "# Learning Variables\n",
    "W = tf.Variable(tf.zeros([784, 10]), name='W')\n",
    "b = tf.Variable(tf.zeros([10]), name='b')\n"
   ]
  },
  {
   "cell_type": "code",
   "execution_count": 7,
   "metadata": {},
   "outputs": [],
   "source": [
    "# Define the model\n",
    "with tf.name_scope(\"wx_b\") as scope:\n",
    "    y_hat = tf.nn.softmax(tf.matmul(x,W) + b)"
   ]
  },
  {
   "cell_type": "code",
   "execution_count": 8,
   "metadata": {},
   "outputs": [],
   "source": [
    "#Add summary ops to collect data while training\n",
    "w_h = tf.summary.histogram(\"weights\", W)\n",
    "b_h = tf.summary.histogram(\"biases\", b)"
   ]
  },
  {
   "cell_type": "code",
   "execution_count": 10,
   "metadata": {},
   "outputs": [
    {
     "name": "stdout",
     "output_type": "stream",
     "text": [
      "WARNING:tensorflow:From <ipython-input-10-3faae720666e>:3: softmax_cross_entropy_with_logits (from tensorflow.python.ops.nn_ops) is deprecated and will be removed in a future version.\n",
      "Instructions for updating:\n",
      "\n",
      "Future major versions of TensorFlow will allow gradients to flow\n",
      "into the labels input on backprop by default.\n",
      "\n",
      "See `tf.nn.softmax_cross_entropy_with_logits_v2`.\n",
      "\n"
     ]
    }
   ],
   "source": [
    "# Define the cross-entropy loss function\n",
    "with tf.name_scope('cross-entropy') as scope:\n",
    "    loss = tf.reduce_mean(tf.nn.softmax_cross_entropy_with_logits(labels=y, logits=y_hat))\n",
    "    tf.summary.scalar('cross-entropy', loss)\n",
    "    "
   ]
  },
  {
   "cell_type": "code",
   "execution_count": 11,
   "metadata": {},
   "outputs": [],
   "source": [
    "# Choose the optimizer\n",
    "with tf.name_scope('Train') as scope:\n",
    "    optimizer = tf.train.GradientDescentOptimizer(0.01).minimize(loss)"
   ]
  },
  {
   "cell_type": "code",
   "execution_count": 12,
   "metadata": {},
   "outputs": [],
   "source": [
    "# Define ops to test trained model\n",
    "correct_prediction = tf.equal(tf.argmax(y_hat, 1), tf.argmax(y, 1))\n",
    "accuracy = tf.reduce_mean(tf.cast(correct_prediction, tf.float32))"
   ]
  },
  {
   "cell_type": "code",
   "execution_count": 13,
   "metadata": {},
   "outputs": [],
   "source": [
    "# Initializing the variables\n",
    "init = tf.global_variables_initializer()\n"
   ]
  },
  {
   "cell_type": "code",
   "execution_count": 14,
   "metadata": {},
   "outputs": [],
   "source": [
    "# Merge All summaries\n",
    "merged_summary_op = tf.summary.merge_all()"
   ]
  },
  {
   "cell_type": "code",
   "execution_count": 15,
   "metadata": {},
   "outputs": [
    {
     "name": "stdout",
     "output_type": "stream",
     "text": [
      "Epoch 0: Loss 2.250762136632746\n",
      "Epoch 1: Loss 2.0906084966659546\n",
      "Epoch 2: Loss 1.9609185164624994\n",
      "Epoch 3: Loss 1.8829452696713533\n",
      "Epoch 4: Loss 1.8336594533920287\n",
      "Epoch 5: Loss 1.8016876396265897\n",
      "Epoch 6: Loss 1.7796502843770114\n",
      "Epoch 7: Loss 1.763462169820612\n",
      "Epoch 8: Loss 1.750979472723874\n",
      "Epoch 9: Loss 1.7410100310499017\n",
      "Epoch 10: Loss 1.7328474621339278\n",
      "Epoch 11: Loss 1.7259811691804365\n",
      "Epoch 12: Loss 1.7201268610087308\n",
      "Epoch 13: Loss 1.7150548605485396\n",
      "Epoch 14: Loss 1.710605344989083\n",
      "Epoch 15: Loss 1.7066578071767633\n",
      "Epoch 16: Loss 1.7031172314557161\n",
      "Epoch 17: Loss 1.699915686303919\n",
      "Epoch 18: Loss 1.6970088815689086\n",
      "Epoch 19: Loss 1.6943307915600863\n",
      "Epoch 20: Loss 1.6918524323810231\n",
      "Epoch 21: Loss 1.6895337436415931\n",
      "Epoch 22: Loss 1.6873282222314314\n",
      "Epoch 23: Loss 1.6851794437928633\n",
      "Epoch 24: Loss 1.6829830048301002\n",
      "Epoch 25: Loss 1.6804621078751303\n",
      "Epoch 26: Loss 1.676789542544972\n",
      "Epoch 27: Loss 1.670560937578028\n",
      "Epoch 28: Loss 1.6638360316103156\n",
      "Epoch 29: Loss 1.6588860516114667\n",
      "Epoch 30: Loss 1.6544545362212442\n",
      "Epoch 31: Loss 1.650236720388586\n",
      "Epoch 32: Loss 1.6461994743347168\n",
      "Epoch 33: Loss 1.642399321902882\n",
      "Epoch 34: Loss 1.6388862341100519\n",
      "Epoch 35: Loss 1.635679666996002\n",
      "Epoch 36: Loss 1.6327996449037032\n",
      "Epoch 37: Loss 1.6302388260581278\n",
      "Epoch 38: Loss 1.6279561732032082\n",
      "Epoch 39: Loss 1.6259053353829818\n",
      "Epoch 40: Loss 1.6240505521947688\n",
      "Epoch 41: Loss 1.6223465059020303\n",
      "Epoch 42: Loss 1.6207824271375482\n",
      "Epoch 43: Loss 1.6193282023343174\n",
      "Epoch 44: Loss 1.6179699642008\n",
      "Epoch 45: Loss 1.6166876103661276\n",
      "Epoch 46: Loss 1.6154777858474039\n",
      "Epoch 47: Loss 1.6143288282914596\n",
      "Epoch 48: Loss 1.6132392636212436\n",
      "Epoch 49: Loss 1.6121992525187405\n",
      "Epoch 50: Loss 1.6112024903297424\n",
      "Epoch 51: Loss 1.6102513415163213\n",
      "Epoch 52: Loss 1.609334215034138\n",
      "Epoch 53: Loss 1.6084616377136924\n",
      "Epoch 54: Loss 1.6076144302975048\n",
      "Epoch 55: Loss 1.6067996560443532\n",
      "Epoch 56: Loss 1.6060148885033347\n",
      "Epoch 57: Loss 1.6052528908035972\n",
      "Epoch 58: Loss 1.604524526379325\n",
      "Epoch 59: Loss 1.6038099774447354\n",
      "Epoch 60: Loss 1.603125472502275\n",
      "Epoch 61: Loss 1.6024581770463424\n",
      "Epoch 62: Loss 1.6018119684132663\n",
      "Epoch 63: Loss 1.601184080730785\n",
      "Epoch 64: Loss 1.6005780165845698\n",
      "Epoch 65: Loss 1.5999828221581198\n",
      "Epoch 66: Loss 1.5994084512103688\n",
      "Epoch 67: Loss 1.5988419426571239\n",
      "Epoch 68: Loss 1.5983000438863582\n",
      "Epoch 69: Loss 1.5977646775679155\n",
      "Epoch 70: Loss 1.5972461652755738\n",
      "Epoch 71: Loss 1.5967383046583696\n",
      "Epoch 72: Loss 1.5962442255020142\n",
      "Epoch 73: Loss 1.5957617035779086\n",
      "Epoch 74: Loss 1.5952901062098417\n",
      "Epoch 75: Loss 1.594828503998843\n",
      "Epoch 76: Loss 1.5943744865330782\n",
      "Epoch 77: Loss 1.5939349553801796\n",
      "Epoch 78: Loss 1.5935063812949442\n",
      "Epoch 79: Loss 1.5930812872539868\n",
      "Epoch 80: Loss 1.5926692080497742\n",
      "Epoch 81: Loss 1.5922633983872154\n",
      "Epoch 82: Loss 1.5918676534566012\n",
      "Epoch 83: Loss 1.5914777755737304\n",
      "Epoch 84: Loss 1.5910940196297385\n",
      "Epoch 85: Loss 1.5907228393988175\n",
      "Epoch 86: Loss 1.5903538712588223\n",
      "Epoch 87: Loss 1.5899962310357527\n",
      "Epoch 88: Loss 1.5896412881937894\n",
      "Epoch 89: Loss 1.589292255748402\n",
      "Epoch 90: Loss 1.588953150402416\n",
      "Epoch 91: Loss 1.588621650392359\n",
      "Epoch 92: Loss 1.5882923936843871\n",
      "Epoch 93: Loss 1.587969712344083\n",
      "Epoch 94: Loss 1.5876507277922196\n",
      "Epoch 95: Loss 1.5873386292024092\n",
      "Epoch 96: Loss 1.587031725319949\n",
      "Epoch 97: Loss 1.5867288255691527\n",
      "Epoch 98: Loss 1.5864315208521755\n",
      "Epoch 99: Loss 1.5861404390768572\n",
      "Done\n",
      "0.909\n"
     ]
    }
   ],
   "source": [
    "with tf.Session() as sess:\n",
    "    sess.run(init)  # initialize all variables\n",
    "    summary_writer = tf.summary.FileWriter('graphs', sess.graph)  # Create an event file\n",
    "    \n",
    "    # Training\n",
    "    for epoch in range(max_epochs):\n",
    "        loss_avg = 0\n",
    "        num_of_batch = int(mnist.train.num_examples/batch_size)\n",
    "        for i in range(num_of_batch):\n",
    "            batch_xs, batch_ys = mnist.train.next_batch(100)  # get the next batch of data\n",
    "            _, l, summary_str = sess.run([optimizer,loss, merged_summary_op], feed_dict={x: batch_xs, y: batch_ys})  # Run the optimizer\n",
    "            loss_avg += l\n",
    "            summary_writer.add_summary(summary_str, epoch*num_of_batch + i)  # Add all summaries per batch\n",
    "            \n",
    "        loss_avg = loss_avg/num_of_batch\n",
    "        print('Epoch {0}: Loss {1}'.format(epoch, loss_avg))\n",
    "    \n",
    "    print('Done')\n",
    "    \n",
    "    print(sess.run(accuracy, feed_dict={x: mnist.test.images,y: mnist.test.labels}))\n",
    "    \n",
    "\n",
    "    "
   ]
  },
  {
   "cell_type": "code",
   "execution_count": null,
   "metadata": {
    "collapsed": true
   },
   "outputs": [],
   "source": []
  }
 ],
 "metadata": {
  "kernelspec": {
   "display_name": "Python [conda env:tf_gpu]",
   "language": "python",
   "name": "conda-env-tf_gpu-py"
  },
  "language_info": {
   "codemirror_mode": {
    "name": "ipython",
    "version": 3
   },
   "file_extension": ".py",
   "mimetype": "text/x-python",
   "name": "python",
   "nbconvert_exporter": "python",
   "pygments_lexer": "ipython3",
   "version": "3.6.8"
  }
 },
 "nbformat": 4,
 "nbformat_minor": 2
}
